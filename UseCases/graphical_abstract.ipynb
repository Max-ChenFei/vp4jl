{
 "cells": [
  {
   "cell_type": "code",
   "execution_count": null,
   "id": "36ac62d1-166a-4d0f-8048-965488fed404",
   "metadata": {
    "code type": "visual code"
   },
   "outputs": [],
   "source": [
    "{\"nodes\":[{\"id\":\"1\",\"type\":\"imageio.read_image\",\"position\":{\"x\":154.22544157305242,\"y\":70.566687959939},\"inputs\":{\"execIn\":{\"title\":\"execIn\",\"dataType\":\"exec\"},\"path\":{\"title\":\"path\",\"value\":\"raw.jpg\",\"dataType\":\"string\"},\"mode\":{\"title\":\"mode\",\"value\":\" ImageReadMode.GRAY\",\"dataType\":\"imageio.ImageReadMode\"}},\"outputs\":{\"execOut\":{\"title\":\"execOut\",\"dataType\":\"exec\"},\"image\":{\"title\":\"image\",\"dataType\":\"image\"}},\"title\":\"read_image\"},{\"id\":\"2\",\"type\":\"Scikiimage.exposure.equalizeAdapthist\",\"position\":{\"x\":431.3632049348769,\"y\":71.18329966964063},\"inputs\":{\"execIn\":{\"title\":\"execIn\",\"dataType\":\"exec\"},\"image\":{\"title\":\"image\",\"value\":{\"dataType\":\"numpy.ndarray\",\"metadata\":[{\"colorChannel\":\"rgb\",\"isMiniBatched\":false,\"channelOrder\":\"channelLast\",\"intensityRange\":\"0-255\"},{\"colorChannel\":\"grayscale\",\"isMiniBatched\":false,\"channelOrder\":\"none\",\"intensityRange\":\"0-255\"}]},\"dataType\":\"image\"},\"kernel_size\":{\"title\":\"kernel_size\",\"value\":\"None\",\"dataType\":\"anyDataType\"},\"clip_limit\":{\"title\":\"clip_limit\",\"dataType\":\"anyDataType\"},\"nbins\":{\"title\":\"nbins\",\"dataType\":\"anyDataType\"}},\"outputs\":{\"execOut\":{\"title\":\"execOut\",\"dataType\":\"exec\"},\"image\":{\"title\":\"image\",\"dataType\":\"image\"}},\"title\":\"equalize adapthist\"},{\"id\":\"0\",\"type\":\"imageio.write_image\",\"position\":{\"x\":1150.4095881422309,\"y\":70.80337011513359},\"inputs\":{\"execIn\":{\"title\":\"execIn\",\"dataType\":\"exec\"},\"image\":{\"title\":\"image\",\"value\":{\"dataType\":\"numpy.ndarray\",\"metadata\":[{\"colorChannel\":\"rgb\",\"isMiniBatched\":false,\"channelOrder\":\"channelLast\",\"intensityRange\":\"0-255\"}]},\"dataType\":\"image\"},\"filename\":{\"title\":\"filename\",\"value\":\"filtered\",\"dataType\":\"string\"},\"format\":{\"title\":\"format\",\"dataType\":\"imageio.ImageFileFormat\"}},\"outputs\":{\"execOut\":{\"title\":\"execOut\",\"dataType\":\"exec\"}},\"title\":\"write_image\"},{\"id\":\"3\",\"type\":\"Kornia.filters.Bilateral_Blur\",\"position\":{\"x\":785.2635903833934,\"y\":70.67267461649928},\"inputs\":{\"execIn\":{\"title\":\"execIn\",\"dataType\":\"exec\"},\"image\":{\"title\":\"image\",\"value\":{\"dataType\":\"torch.tensor\",\"metadata\":[{\"colorChannel\":\"rgb\",\"isMiniBatched\":true,\"channelOrder\":\"channelFirst\",\"intensityRange\":\"0-1\"}]},\"dataType\":\"image\"},\"kernel_size\":{\"title\":\"kernel_size\",\"dataType\":\"tuple\"},\"sigma_color\":{\"title\":\"sigma_color\",\"value\":0.15,\"dataType\":\"float\"},\"sigma_space\":{\"title\":\"sigma_color\",\"dataType\":\"tuple\"},\"border_type\":{\"title\":\"border_type\",\"dataType\":\"string\"},\"color_distance_type\":{\"title\":\"color_distance_type\",\"dataType\":\"string\"}},\"outputs\":{\"execOut\":{\"title\":\"execOut\",\"dataType\":\"exec\"},\"image\":{\"title\":\"image\",\"dataType\":\"image\"}},\"title\":\"bilateral blur\"}],\"edges\":[{\"id\":\"reactflow__edge-1execOut-2execIn\",\"output\":\"1\",\"input\":\"2\",\"outputHandle\":\"execOut\",\"inputHandle\":\"execIn\",\"dataType\":\"exec\"},{\"id\":\"reactflow__edge-1image-2image\",\"output\":\"1\",\"input\":\"2\",\"outputHandle\":\"image\",\"inputHandle\":\"image\",\"dataType\":\"image\"},{\"id\":\"reactflow__edge-2execOut-3execIn\",\"output\":\"2\",\"input\":\"3\",\"outputHandle\":\"execOut\",\"inputHandle\":\"execIn\",\"dataType\":\"exec\"},{\"id\":\"reactflow__edge-3execOut-0execIn\",\"output\":\"3\",\"input\":\"0\",\"outputHandle\":\"execOut\",\"inputHandle\":\"execIn\",\"dataType\":\"exec\"},{\"id\":\"reactflow__edge-3image-0image\",\"output\":\"3\",\"input\":\"0\",\"outputHandle\":\"image\",\"inputHandle\":\"image\",\"dataType\":\"image\"},{\"id\":\"reactflow__edge-2image-3image\",\"output\":\"2\",\"input\":\"3\",\"outputHandle\":\"image\",\"inputHandle\":\"image\",\"dataType\":\"image\"}]}"
   ]
  }
 ],
 "metadata": {
  "kernelspec": {
   "display_name": "Python 3 (ipykernel)",
   "language": "python",
   "name": "python3"
  },
  "language_info": {
   "codemirror_mode": {
    "name": "ipython",
    "version": 3
   },
   "file_extension": ".py",
   "mimetype": "text/x-python",
   "name": "python",
   "nbconvert_exporter": "python",
   "pygments_lexer": "ipython3",
   "version": "3.10.12"
  }
 },
 "nbformat": 4,
 "nbformat_minor": 5
}
