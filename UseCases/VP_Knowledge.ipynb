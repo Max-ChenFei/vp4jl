{
 "cells": [
  {
   "cell_type": "code",
   "execution_count": null,
   "id": "9002f29b-f79f-48f9-a08f-96114ecaa54c",
   "metadata": {
    "code type": "visual code"
   },
   "outputs": [],
   "source": [
    "{\"nodes\":[{\"id\":\"0\",\"type\":\"imageio.read_image\",\"position\":{\"x\":69.66666412353516,\"y\":113.33332824707031},\"inputs\":{\"execIn\":{\"title\":\"execIn\",\"dataType\":\"exec\"},\"path\":{\"title\":\"path\",\"value\":\"raw.jpg\",\"dataType\":\"string\"},\"mode\":{\"title\":\"mode\",\"value\":\"ImageReadMode.RGB\",\"dataType\":\"imageio.ImageReadMode\"}},\"outputs\":{\"execOut\":{\"title\":\"execOut\",\"dataType\":\"exec\"},\"image\":{\"title\":\"image\",\"dataType\":\"image\"}},\"title\":\"read_image\"},{\"id\":\"1\",\"type\":\"Kornia.filters.Canny\",\"position\":{\"x\":628.4688102790042,\"y\":113.57054521455598},\"inputs\":{\"execIn\":{\"title\":\"execIn\",\"dataType\":\"exec\"},\"image\":{\"title\":\"image\",\"value\":{\"dataType\":\"torch.tensor\",\"metadata\":[{\"colorChannel\":\"rgb\",\"isMiniBatched\":true,\"channelOrder\":\"channelFirst\",\"intensityRange\":\"0-1\"}]},\"dataType\":\"image\"},\"low_threshold\":{\"title\":\"low_threshold\",\"dataType\":\"float\"},\"high_threshold\":{\"title\":\"high_threshold\",\"dataType\":\"float\"},\"kernel_size\":{\"title\":\"kernel_size\",\"dataType\":\"tuple\"},\"sigma\":{\"title\":\"sigma\",\"dataType\":\"tuple\"},\"hysteresis\":{\"title\":\"hysteresis\",\"dataType\":\"boolean\"},\"eps\":{\"title\":\"eps\",\"dataType\":\"float\"}},\"outputs\":{\"execOut\":{\"title\":\"execOut\",\"dataType\":\"exec\"},\"image\":{\"title\":\"image\",\"dataType\":\"image\"}},\"title\":\"canny edge detection\"},{\"id\":\"2\",\"type\":\"image visualization.show_image\",\"position\":{\"x\":1353.91844083698,\"y\":113.28821921301815},\"inputs\":{\"execIn\":{\"title\":\"execIn\",\"dataType\":\"exec\"},\"image\":{\"title\":\"image\",\"value\":{\"dataType\":\"numpy.ndarray\",\"metadata\":[{\"colorChannel\":\"rgb\",\"isMiniBatched\":false,\"channelOrder\":\"channelLast\",\"intensityRange\":\"0-255\"},{\"colorChannel\":\"grayscale\",\"isMiniBatched\":false,\"channelOrder\":\"none\",\"intensityRange\":\"0-255\"}]},\"dataType\":\"image\"},\"title\":{\"title\":\"title\",\"value\":\"edge\",\"dataType\":\"string\"},\"cmap\":{\"title\":\"cmap\",\"dataType\":\"string\"},\"figSize\":{\"title\":\"figSize\",\"value\":\"(5, 5)\",\"dataType\":\"tuple\"}},\"outputs\":{\"execOut\":{\"title\":\"execOut\",\"dataType\":\"exec\"}},\"title\":\"show_image\"}],\"edges\":[{\"id\":\"reactflow__edge-0execOut-1execIn\",\"output\":\"0\",\"input\":\"1\",\"outputHandle\":\"execOut\",\"inputHandle\":\"execIn\",\"dataType\":\"exec\"},{\"id\":\"reactflow__edge-0image-1image\",\"output\":\"0\",\"input\":\"1\",\"outputHandle\":\"image\",\"inputHandle\":\"image\",\"dataType\":\"image\"},{\"id\":\"reactflow__edge-1execOut-2execIn\",\"output\":\"1\",\"input\":\"2\",\"outputHandle\":\"execOut\",\"inputHandle\":\"execIn\",\"dataType\":\"exec\"},{\"id\":\"reactflow__edge-1image-2image\",\"output\":\"1\",\"input\":\"2\",\"outputHandle\":\"image\",\"inputHandle\":\"image\",\"dataType\":\"image\"}]}"
   ]
  }
 ],
 "metadata": {
  "kernelspec": {
   "display_name": "Python 3 (ipykernel)",
   "language": "python",
   "name": "python3"
  },
  "language_info": {
   "codemirror_mode": {
    "name": "ipython",
    "version": 3
   },
   "file_extension": ".py",
   "mimetype": "text/x-python",
   "name": "python",
   "nbconvert_exporter": "python",
   "pygments_lexer": "ipython3",
   "version": "3.10.12"
  }
 },
 "nbformat": 4,
 "nbformat_minor": 5
}
