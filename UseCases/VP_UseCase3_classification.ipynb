{
 "cells": [
  {
   "cell_type": "code",
   "execution_count": null,
   "id": "e963d66f-2eef-4fde-a5d6-10e580c2c4e8",
   "metadata": {
    "code type": "visual code"
   },
   "outputs": [],
   "source": [
    "{\"nodes\":[{\"id\":\"1\",\"type\":\"imageio.paths_to_images_in_folder\",\"position\":{\"x\":284.0605748358737,\"y\":324.3803267785668},\"inputs\":{\"execIn\":{\"title\":\"execIn\",\"dataType\":\"exec\"},\"path\":{\"title\":\"path\",\"value\":\"test\",\"dataType\":\"string\"},\"format\":{\"title\":\"format\",\"dataType\":\"imageio.ImageFileFormat\"}},\"outputs\":{\"execOut\":{\"title\":\"execOut\",\"dataType\":\"exec\"},\"paths\":{\"title\":\"paths\",\"dataType\":\"list\"}},\"title\":\"paths_to_images_in_folder\"},{\"id\":\"2\",\"type\":\"Flow Control.For Each Loop\",\"position\":{\"x\":567.3257725832561,\"y\":324.58007059588505},\"inputs\":{\"execIn\":{\"title\":\"execIn\",\"dataType\":\"exec\"},\"Array\":{\"title\":\"List\",\"dataType\":\"list\"}},\"outputs\":{\"loopBody\":{\"title\":\"Loop Body\",\"dataType\":\"exec\"},\"ArrayElement\":{\"title\":\"Array Element\",\"dataType\":\"anyDataType\"},\"arrayIndex\":{\"title\":\"Array Index\",\"dataType\":\"integer\"},\"complete\":{\"title\":\"Completed\",\"dataType\":\"exec\"}},\"title\":\"For Each Loop\"},{\"id\":\"5\",\"type\":\"imageio.read_image\",\"position\":{\"x\":779.7022489983564,\"y\":323.9546140510043},\"inputs\":{\"execIn\":{\"title\":\"execIn\",\"dataType\":\"exec\"},\"path\":{\"title\":\"path\",\"dataType\":\"string\"},\"mode\":{\"title\":\"mode\",\"value\":\" ImageReadMode.GRAY\",\"dataType\":\"imageio.ImageReadMode\"}},\"outputs\":{\"execOut\":{\"title\":\"execOut\",\"dataType\":\"exec\"},\"image\":{\"title\":\"image\",\"dataType\":\"image\"}},\"title\":\"read_image\"},{\"id\":\"0\",\"type\":\"Flow Control.Execute Start\",\"position\":{\"x\":287.94453690145707,\"y\":154.01681255899425},\"outputs\":{\"execOut\":{\"dataType\":\"exec\"}},\"title\":\"Execute Start\"},{\"id\":\"8\",\"type\":\"keras.load_pytorch_model\",\"position\":{\"x\":453.88295070188076,\"y\":153.57054259514845},\"inputs\":{\"execIn\":{\"title\":\"execIn\",\"dataType\":\"exec\"},\"path\":{\"title\":\"path\",\"value\":\"model.pt\",\"dataType\":\"string\"},\"eval\":{\"title\":\"eval\",\"dataType\":\"boolean\"}},\"outputs\":{\"execOut\":{\"title\":\"execOut\",\"dataType\":\"exec\"},\"model\":{\"title\":\"model\",\"dataType\":\"keras.model\"}},\"title\":\"load_pytorch_model\"},{\"id\":\"9\",\"type\":\"reroute\",\"position\":{\"x\":956.1600540056394,\"y\":223.9566627453048},\"inputs\":{\"input\":{\"title\":\"input\",\"dataType\":\"keras.model\"}},\"outputs\":{\"output\":{\"title\":\"output\",\"dataType\":\"keras.model\"}},\"dataType\":\"keras.model\",\"title\":\"reroute\"},{\"id\":\"10\",\"type\":\"keras.predict_as_string\",\"position\":{\"x\":1069.3375352903317,\"y\":323.3948272483545},\"inputs\":{\"execIn\":{\"title\":\"execIn\",\"dataType\":\"exec\"},\"keras_model\":{\"title\":\"model\",\"dataType\":\"keras.model\"},\"input_image\":{\"title\":\"input_image\",\"dataType\":\"image\"}},\"outputs\":{\"execOut\":{\"title\":\"execOut\",\"dataType\":\"exec\"},\"predicted\":{\"title\":\"predicted\",\"dataType\":\"string\"}},\"title\":\"predict_as_string\"},{\"id\":\"11\",\"type\":\"Log.Print\",\"position\":{\"x\":1307.952951234738,\"y\":322.6693532197717},\"inputs\":{\"execIn\":{\"title\":\"execIn\",\"dataType\":\"exec\"},\"input\":{\"title\":\"Any in\",\"value\":\"Hello\",\"dataType\":\"anyDataType\"}},\"outputs\":{\"execOut\":{\"dataType\":\"exec\"}},\"title\":\"Print\"}],\"edges\":[{\"id\":\"e1-paths-2-Array\",\"output\":\"1\",\"input\":\"2\",\"outputHandle\":\"paths\",\"inputHandle\":\"Array\",\"dataType\":\"list\"},{\"id\":\"e2-ArrayElement-5-path\",\"output\":\"2\",\"input\":\"5\",\"outputHandle\":\"ArrayElement\",\"inputHandle\":\"path\",\"dataType\":\"string\"},{\"id\":\"e2-loopBody-5-execIn\",\"output\":\"2\",\"input\":\"5\",\"outputHandle\":\"loopBody\",\"inputHandle\":\"execIn\",\"dataType\":\"exec\"},{\"id\":\"e1-execOut-2-execIn\",\"output\":\"1\",\"input\":\"2\",\"outputHandle\":\"execOut\",\"inputHandle\":\"execIn\",\"dataType\":\"exec\"},{\"id\":\"reactflow__edge-0execOut-8execIn\",\"output\":\"0\",\"input\":\"8\",\"outputHandle\":\"execOut\",\"inputHandle\":\"execIn\",\"dataType\":\"exec\"},{\"id\":\"reactflow__edge-8execOut-1execIn\",\"output\":\"8\",\"input\":\"1\",\"outputHandle\":\"execOut\",\"inputHandle\":\"execIn\",\"dataType\":\"exec\"},{\"id\":\"reactflow__edge-8model-9input\",\"output\":\"8\",\"input\":\"9\",\"outputHandle\":\"model\",\"inputHandle\":\"input\",\"dataType\":\"keras.model\"},{\"id\":\"reactflow__edge-5execOut-10execIn\",\"output\":\"5\",\"input\":\"10\",\"outputHandle\":\"execOut\",\"inputHandle\":\"execIn\",\"dataType\":\"exec\"},{\"id\":\"reactflow__edge-10execOut-11execIn\",\"output\":\"10\",\"input\":\"11\",\"outputHandle\":\"execOut\",\"inputHandle\":\"execIn\",\"dataType\":\"exec\"},{\"id\":\"reactflow__edge-10predicted-11input\",\"output\":\"10\",\"input\":\"11\",\"outputHandle\":\"predicted\",\"inputHandle\":\"input\",\"dataType\":\"anyDataType\"},{\"id\":\"reactflow__edge-9output-10keras_model\",\"output\":\"9\",\"input\":\"10\",\"outputHandle\":\"output\",\"inputHandle\":\"keras_model\",\"dataType\":\"keras.model\"},{\"id\":\"reactflow__edge-5image-10input_image\",\"output\":\"5\",\"input\":\"10\",\"outputHandle\":\"image\",\"inputHandle\":\"input_image\",\"dataType\":\"image\"}]}"
   ]
  }
 ],
 "metadata": {
  "kernelspec": {
   "display_name": "Python 3 (ipykernel)",
   "language": "python",
   "name": "python3"
  },
  "language_info": {
   "codemirror_mode": {
    "name": "ipython",
    "version": 3
   },
   "file_extension": ".py",
   "mimetype": "text/x-python",
   "name": "python",
   "nbconvert_exporter": "python",
   "pygments_lexer": "ipython3",
   "version": "3.10.12"
  }
 },
 "nbformat": 4,
 "nbformat_minor": 5
}
