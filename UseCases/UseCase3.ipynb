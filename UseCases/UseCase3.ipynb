{
 "cells": [
  {
   "cell_type": "code",
   "execution_count": null,
   "id": "45861b6e-df9d-4598-828e-91e5f19bbd68",
   "metadata": {
    "code type": "visual code"
   },
   "outputs": [],
   "source": [
    "{\"nodes\":[{\"id\":\"1\",\"type\":\"imageio.paths_to_images_in_folder\",\"position\":{\"x\":57.660059262966456,\"y\":-78.31074680370511},\"inputs\":{\"execIn\":{\"title\":\"execIn\",\"dataType\":\"exec\"},\"path\":{\"title\":\"path\",\"value\":\"test\",\"dataType\":\"string\"},\"format\":{\"title\":\"format\",\"dataType\":\"imageio.ImageFileFormat\"}},\"outputs\":{\"execOut\":{\"title\":\"execOut\",\"dataType\":\"exec\"},\"paths\":{\"title\":\"paths\",\"dataType\":\"list\"}},\"title\":\"paths_to_images_in_folder\"},{\"id\":\"2\",\"type\":\"Flow Control.For Each Loop\",\"position\":{\"x\":340.92525701034884,\"y\":-79.11100298638692},\"inputs\":{\"execIn\":{\"title\":\"execIn\",\"dataType\":\"exec\"},\"Array\":{\"title\":\"List\",\"dataType\":\"list\"}},\"outputs\":{\"loopBody\":{\"title\":\"Loop Body\",\"dataType\":\"exec\"},\"ArrayElement\":{\"title\":\"Array Element\",\"dataType\":\"anyDataType\"},\"arrayIndex\":{\"title\":\"Array Index\",\"dataType\":\"integer\"},\"complete\":{\"title\":\"Completed\",\"dataType\":\"exec\"}},\"title\":\"For Each Loop\"},{\"id\":\"3\",\"type\":\"keras.load_keras_model\",\"position\":{\"x\":55.64810793783789,\"y\":-247.87309202753946},\"inputs\":{\"execIn\":{\"title\":\"execIn\",\"dataType\":\"exec\"},\"path\":{\"title\":\"path\",\"value\":\"kerasl.model\",\"dataType\":\"string\"},\"compile\":{\"title\":\"compile\",\"dataType\":\"boolean\"},\"safe_mode\":{\"title\":\"safe_mode\",\"dataType\":\"boolean\"}},\"outputs\":{\"execOut\":{\"title\":\"execOut\",\"dataType\":\"exec\"},\"keras_model\":{\"title\":\"keras model\",\"dataType\":\"keras.model\"}},\"title\":\"load_keras_model\"},{\"id\":\"5\",\"type\":\"keras.predict_image\",\"position\":{\"x\":835.6177999357874,\"y\":-78.85157099646716},\"inputs\":{\"execIn\":{\"title\":\"execIn\",\"dataType\":\"exec\"},\"keras_model\":{\"title\":\"keras_model\",\"dataType\":\"keras.model\"},\"input_image\":{\"title\":\"input_image\",\"dataType\":\"image\"}},\"outputs\":{\"execOut\":{\"title\":\"execOut\",\"dataType\":\"exec\"},\"predicted\":{\"title\":\"predicted\",\"dataType\":\"image\"}},\"title\":\"predict_image\"},{\"id\":\"7\",\"type\":\"imageio.read_image\",\"position\":{\"x\":551.8017334254491,\"y\":-79.73645953126767},\"inputs\":{\"execIn\":{\"title\":\"execIn\",\"dataType\":\"exec\"},\"path\":{\"title\":\"path\",\"dataType\":\"string\"},\"mode\":{\"title\":\"mode\",\"value\":\" ImageReadMode.GRAY\",\"dataType\":\"imageio.ImageReadMode\"}},\"outputs\":{\"execOut\":{\"title\":\"execOut\",\"dataType\":\"exec\"},\"image\":{\"title\":\"image\",\"dataType\":\"image\"}},\"title\":\"read_image\"},{\"id\":\"8\",\"type\":\"imageio.write_image\",\"position\":{\"x\":1072.2378885688947,\"y\":-79.53385624126169},\"inputs\":{\"execIn\":{\"title\":\"execIn\",\"dataType\":\"exec\"},\"image\":{\"title\":\"image\",\"value\":{\"dataType\":\"numpy.ndarray\",\"metadata\":[{\"colorChannel\":\"rgb\",\"isMiniBatched\":false,\"channelOrder\":\"channelLast\",\"intensityRange\":\"0-255\"}]},\"dataType\":\"image\"},\"filename\":{\"title\":\"filename\",\"value\":\"\",\"dataType\":\"string\"},\"format\":{\"title\":\"format\",\"dataType\":\"imageio.ImageFileFormat\"}},\"outputs\":{\"execOut\":{\"title\":\"execOut\",\"dataType\":\"exec\"}},\"title\":\"write_image\"},{\"id\":\"10\",\"type\":\"String.String + String\",\"position\":{\"x\":760.4063468769771,\"y\":76.24032057486698},\"inputs\":{\"input1\":{\"title\":\"String\",\"value\":\"\",\"dataType\":\"string\"},\"input2\":{\"title\":\"String\",\"value\":\"_restorated\",\"dataType\":\"string\"}},\"outputs\":{\"string\":{\"title\":\"String\",\"dataType\":\"string\"}},\"dataType\":\"string\",\"title\":\"+\"},{\"id\":\"4\",\"type\":\"reroute\",\"position\":{\"x\":570.9881009286128,\"y\":85.30058243606274},\"inputs\":{\"input\":{\"title\":\"input\",\"dataType\":\"anyDataType\"}},\"outputs\":{\"output\":{\"title\":\"output\",\"dataType\":\"anyDataType\"}},\"dataType\":\"anyDataType\",\"title\":\"reroute\"},{\"id\":\"6\",\"type\":\"reroute\",\"position\":{\"x\":730.1308553583473,\"y\":-180.7714528666122},\"inputs\":{\"input\":{\"title\":\"input\",\"dataType\":\"keras.model\"}},\"outputs\":{\"output\":{\"title\":\"output\",\"dataType\":\"keras.model\"}},\"dataType\":\"keras.model\",\"title\":\"reroute\"}],\"edges\":[{\"id\":\"reactflow__edge-1paths-2Array\",\"output\":\"1\",\"input\":\"2\",\"outputHandle\":\"paths\",\"inputHandle\":\"Array\",\"dataType\":\"list\"},{\"id\":\"reactflow__edge-2ArrayElement-7path\",\"output\":\"2\",\"input\":\"7\",\"outputHandle\":\"ArrayElement\",\"inputHandle\":\"path\",\"dataType\":\"string\"},{\"id\":\"reactflow__edge-7execOut-5execIn\",\"output\":\"7\",\"input\":\"5\",\"outputHandle\":\"execOut\",\"inputHandle\":\"execIn\",\"dataType\":\"exec\"},{\"id\":\"reactflow__edge-7image-5input_image\",\"output\":\"7\",\"input\":\"5\",\"outputHandle\":\"image\",\"inputHandle\":\"input_image\",\"dataType\":\"image\"},{\"id\":\"reactflow__edge-5execOut-8execIn\",\"output\":\"5\",\"input\":\"8\",\"outputHandle\":\"execOut\",\"inputHandle\":\"execIn\",\"dataType\":\"exec\"},{\"id\":\"reactflow__edge-5predicted-8image\",\"output\":\"5\",\"input\":\"8\",\"outputHandle\":\"predicted\",\"inputHandle\":\"image\",\"dataType\":\"image\"},{\"id\":\"reactflow__edge-2loopBody-7execIn\",\"output\":\"2\",\"input\":\"7\",\"outputHandle\":\"loopBody\",\"inputHandle\":\"execIn\",\"dataType\":\"exec\"},{\"id\":\"reactflow__edge-10string-8filename\",\"output\":\"10\",\"input\":\"8\",\"outputHandle\":\"string\",\"inputHandle\":\"filename\",\"dataType\":\"string\"},{\"id\":\"reactflow__edge-2ArrayElement-4input\",\"output\":\"2\",\"input\":\"4\",\"outputHandle\":\"ArrayElement\",\"inputHandle\":\"input\",\"dataType\":\"anyDataType\"},{\"id\":\"reactflow__edge-4output-10input1\",\"output\":\"4\",\"input\":\"10\",\"outputHandle\":\"output\",\"inputHandle\":\"input1\",\"dataType\":\"string\"},{\"id\":\"reactflow__edge-1execOut-2execIn\",\"output\":\"1\",\"input\":\"2\",\"outputHandle\":\"execOut\",\"inputHandle\":\"execIn\",\"dataType\":\"exec\"},{\"id\":\"reactflow__edge-3keras_model-6input\",\"output\":\"3\",\"input\":\"6\",\"outputHandle\":\"keras_model\",\"inputHandle\":\"input\",\"dataType\":\"keras.model\"},{\"id\":\"reactflow__edge-6output-5keras_model\",\"output\":\"6\",\"input\":\"5\",\"outputHandle\":\"output\",\"inputHandle\":\"keras_model\",\"dataType\":\"keras.model\"},{\"id\":\"reactflow__edge-3execOut-1execIn\",\"output\":\"3\",\"input\":\"1\",\"outputHandle\":\"execOut\",\"inputHandle\":\"execIn\",\"dataType\":\"exec\"}]}"
   ]
  },
  {
   "cell_type": "code",
   "execution_count": null,
   "id": "1f74dcdd-9b51-422b-83ef-1f4121125961",
   "metadata": {},
   "outputs": [],
   "source": []
  }
 ],
 "metadata": {
  "kernelspec": {
   "display_name": "Python 3 (ipykernel)",
   "language": "python",
   "name": "python3"
  },
  "language_info": {
   "codemirror_mode": {
    "name": "ipython",
    "version": 3
   },
   "file_extension": ".py",
   "mimetype": "text/x-python",
   "name": "python",
   "nbconvert_exporter": "python",
   "pygments_lexer": "ipython3",
   "version": "3.10.12"
  }
 },
 "nbformat": 4,
 "nbformat_minor": 5
}
